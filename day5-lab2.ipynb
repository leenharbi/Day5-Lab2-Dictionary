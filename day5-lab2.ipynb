{
 "cells": [
  {
   "cell_type": "markdown",
   "id": "bc00dd71",
   "metadata": {},
   "source": [
    "# Leen alharbi\n",
    "-------------\n",
    "day 5 -lab2"
   ]
  },
  {
   "cell_type": "markdown",
   "id": "567a6ee2",
   "metadata": {},
   "source": [
    "\n",
    "-If the number exists, print the owner. Otherwise, print \"Sorry, the number is not found\".\n",
    "\n",
    "-If the number is less or more than 10 numbers, print \"This is invalid number\".\n",
    "\n",
    "-If the number contains letters or symbols, print \"This is invalid number\"."
   ]
  },
  {
   "cell_type": "code",
   "execution_count": 21,
   "id": "d73d5604",
   "metadata": {},
   "outputs": [
    {
     "name": "stdout",
     "output_type": "stream",
     "text": [
      "Please Enter The Number: 1111111111\n",
      "Amal\n"
     ]
    }
   ],
   "source": [
    "num = {1111111111: 'Amal', 2222222222: 'Mohammed', 3333333333: 'Khadijah', 4444444444: 'Abdullah', 5555555555: 'Rawan',\n",
    "       6666666666: 'Faisal', 7777777777: 'Layla'}\n",
    "\n",
    "\n",
    "def l():\n",
    "    x = input('Please Enter The Number: ')\n",
    "    x1 = int(x)\n",
    "    if x1 in num:\n",
    "        print(num[x1])\n",
    "    elif len(str(x1)) > 10:\n",
    "        print('This is invalid number')\n",
    "    elif len(str(x1)) < 10:\n",
    "        print('This is invalid number')\n",
    "    elif x1 not in num:\n",
    "        print('Sorry, the number is not found')\n",
    "    else:\n",
    "        print('This is invalid number')\n",
    "        \n",
    "l()"
   ]
  }
 ],
 "metadata": {
  "kernelspec": {
   "display_name": "Python 3 (ipykernel)",
   "language": "python",
   "name": "python3"
  },
  "language_info": {
   "codemirror_mode": {
    "name": "ipython",
    "version": 3
   },
   "file_extension": ".py",
   "mimetype": "text/x-python",
   "name": "python",
   "nbconvert_exporter": "python",
   "pygments_lexer": "ipython3",
   "version": "3.9.7"
  }
 },
 "nbformat": 4,
 "nbformat_minor": 5
}
